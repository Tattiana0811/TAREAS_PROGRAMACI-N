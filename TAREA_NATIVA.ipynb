{
 "cells": [
  {
   "cell_type": "markdown",
   "metadata": {},
   "source": [
    "## TAREA IMPORTACIÓN NATIVA\n"
   ]
  },
  {
   "cell_type": "code",
   "execution_count": 1,
   "metadata": {},
   "outputs": [
    {
     "ename": "FileNotFoundError",
     "evalue": "[Errno 2] No such file or directory: 'archivo'",
     "output_type": "error",
     "traceback": [
      "\u001b[1;31m---------------------------------------------------------------------------\u001b[0m",
      "\u001b[1;31mFileNotFoundError\u001b[0m                         Traceback (most recent call last)",
      "Cell \u001b[1;32mIn[1], line 62\u001b[0m\n\u001b[0;32m     59\u001b[0m     \u001b[38;5;28mprint\u001b[39m(\u001b[38;5;124mf\u001b[39m\u001b[38;5;124m'\u001b[39m\u001b[38;5;124mPalabras que se repiten más de 3 veces: \u001b[39m\u001b[38;5;132;01m{\u001b[39;00mrepetidas\u001b[38;5;132;01m}\u001b[39;00m\u001b[38;5;124m'\u001b[39m)\n\u001b[0;32m     61\u001b[0m \u001b[38;5;28;01mif\u001b[39;00m \u001b[38;5;18m__name__\u001b[39m\u001b[38;5;241m==\u001b[39m \u001b[38;5;124m\"\u001b[39m\u001b[38;5;124m__main__\u001b[39m\u001b[38;5;124m\"\u001b[39m:\n\u001b[1;32m---> 62\u001b[0m     \u001b[43mmain\u001b[49m\u001b[43m(\u001b[49m\u001b[43m)\u001b[49m\n",
      "Cell \u001b[1;32mIn[1], line 48\u001b[0m, in \u001b[0;36mmain\u001b[1;34m()\u001b[0m\n\u001b[0;32m     45\u001b[0m \u001b[38;5;28;01mdef\u001b[39;00m \u001b[38;5;21mmain\u001b[39m():\n\u001b[0;32m     47\u001b[0m     archivo \u001b[38;5;241m=\u001b[39m\u001b[38;5;124m\"\u001b[39m\u001b[38;5;124mel_grand_gatsby.txt\u001b[39m\u001b[38;5;124m\"\u001b[39m\n\u001b[1;32m---> 48\u001b[0m     texto \u001b[38;5;241m=\u001b[39m \u001b[43mleer_archivo\u001b[49m\u001b[43m(\u001b[49m\u001b[43marchivo\u001b[49m\u001b[43m)\u001b[49m\n\u001b[0;32m     50\u001b[0m     palabras \u001b[38;5;241m=\u001b[39m procesar_palabras(texto)\n\u001b[0;32m     51\u001b[0m     frecuencia \u001b[38;5;241m=\u001b[39m contar_frecuencia(palabras)\n",
      "Cell \u001b[1;32mIn[1], line 2\u001b[0m, in \u001b[0;36mleer_archivo\u001b[1;34m(archivo)\u001b[0m\n\u001b[0;32m      1\u001b[0m \u001b[38;5;28;01mdef\u001b[39;00m \u001b[38;5;21mleer_archivo\u001b[39m (archivo):\n\u001b[1;32m----> 2\u001b[0m     \u001b[38;5;28;01mwith\u001b[39;00m \u001b[38;5;28;43mopen\u001b[39;49m\u001b[43m(\u001b[49m\u001b[38;5;124;43m'\u001b[39;49m\u001b[38;5;124;43marchivo\u001b[39;49m\u001b[38;5;124;43m'\u001b[39;49m\u001b[43m,\u001b[49m\u001b[43m \u001b[49m\u001b[38;5;124;43m'\u001b[39;49m\u001b[38;5;124;43mr\u001b[39;49m\u001b[38;5;124;43m'\u001b[39;49m\u001b[43m)\u001b[49m \u001b[38;5;28;01mas\u001b[39;00m a:\n\u001b[0;32m      3\u001b[0m         contenido \u001b[38;5;241m=\u001b[39m a\u001b[38;5;241m.\u001b[39mread\n\u001b[0;32m      4\u001b[0m     \u001b[38;5;28;01mreturn\u001b[39;00m (contenido)\n",
      "File \u001b[1;32mc:\\Users\\TATTIANA\\AppData\\Local\\Programs\\Python\\Python312\\Lib\\site-packages\\IPython\\core\\interactiveshell.py:324\u001b[0m, in \u001b[0;36m_modified_open\u001b[1;34m(file, *args, **kwargs)\u001b[0m\n\u001b[0;32m    317\u001b[0m \u001b[38;5;28;01mif\u001b[39;00m file \u001b[38;5;129;01min\u001b[39;00m {\u001b[38;5;241m0\u001b[39m, \u001b[38;5;241m1\u001b[39m, \u001b[38;5;241m2\u001b[39m}:\n\u001b[0;32m    318\u001b[0m     \u001b[38;5;28;01mraise\u001b[39;00m \u001b[38;5;167;01mValueError\u001b[39;00m(\n\u001b[0;32m    319\u001b[0m         \u001b[38;5;124mf\u001b[39m\u001b[38;5;124m\"\u001b[39m\u001b[38;5;124mIPython won\u001b[39m\u001b[38;5;124m'\u001b[39m\u001b[38;5;124mt let you open fd=\u001b[39m\u001b[38;5;132;01m{\u001b[39;00mfile\u001b[38;5;132;01m}\u001b[39;00m\u001b[38;5;124m by default \u001b[39m\u001b[38;5;124m\"\u001b[39m\n\u001b[0;32m    320\u001b[0m         \u001b[38;5;124m\"\u001b[39m\u001b[38;5;124mas it is likely to crash IPython. If you know what you are doing, \u001b[39m\u001b[38;5;124m\"\u001b[39m\n\u001b[0;32m    321\u001b[0m         \u001b[38;5;124m\"\u001b[39m\u001b[38;5;124myou can use builtins\u001b[39m\u001b[38;5;124m'\u001b[39m\u001b[38;5;124m open.\u001b[39m\u001b[38;5;124m\"\u001b[39m\n\u001b[0;32m    322\u001b[0m     )\n\u001b[1;32m--> 324\u001b[0m \u001b[38;5;28;01mreturn\u001b[39;00m \u001b[43mio_open\u001b[49m\u001b[43m(\u001b[49m\u001b[43mfile\u001b[49m\u001b[43m,\u001b[49m\u001b[43m \u001b[49m\u001b[38;5;241;43m*\u001b[39;49m\u001b[43margs\u001b[49m\u001b[43m,\u001b[49m\u001b[43m \u001b[49m\u001b[38;5;241;43m*\u001b[39;49m\u001b[38;5;241;43m*\u001b[39;49m\u001b[43mkwargs\u001b[49m\u001b[43m)\u001b[49m\n",
      "\u001b[1;31mFileNotFoundError\u001b[0m: [Errno 2] No such file or directory: 'archivo'"
     ]
    }
   ],
   "source": [
    "def leer_archivo (archivo):\n",
    "    with open('archivo', 'r') as a:\n",
    "        contenido = a.read\n",
    "    return (contenido)\n",
    "\n",
    "def procesar_palabras(contenido):   \n",
    "   \n",
    "    caracteres = '!\"#$%&/()=?\\'~+*[]{|}^-_`.,:;'\n",
    "    numeros ='1234567890'\n",
    "        \n",
    "    for caracter in caracteres + numeros: \n",
    "        contenido = contenido.replace(caracter, '')\n",
    "    palabras = contenido.lower().split()\n",
    "    return palabras\n",
    "            \n",
    "def contar_frecuencia(palabras):\n",
    "    frecuencia = {}\n",
    "    for palabra in palabras:\n",
    "        if palabra in frecuencia:\n",
    "            frecuencia[palabra]+= 1\n",
    "        else:\n",
    "            frecuencia[palabra] =1\n",
    "    return frecuencia\n",
    "\n",
    "def palabra_mas_frecuente(frecuencia):\n",
    "\n",
    "    if len(frecuencia) == 1:\n",
    "        return list(frecuencia.keys())[0]\n",
    "\n",
    "    palabra, max_frecuencia ='',0\n",
    "    for p, contar in frecuencia.items():\n",
    "        if contar > max_frecuencia:\n",
    "            palabra, max_frecuencia= p, contar\n",
    "    return palabra\n",
    "\n",
    "def palabras_unicas(palabra):\n",
    "    unicas =set (palabra)\n",
    "    return unicas\n",
    "\n",
    "def palabras_repetidas(frecuencia):\n",
    "    repetidas = [palabra for palabra, contar in frecuencia.items()\n",
    "                if contar >3]\n",
    "    return repetidas\n",
    "\n",
    "def main():\n",
    "\n",
    "    archivo =\"el_grand_gatsby.txt\"\n",
    "    texto = leer_archivo(archivo)\n",
    "\n",
    "    palabras = procesar_palabras(texto)\n",
    "    frecuencia = contar_frecuencia(palabras)\n",
    "    mas_frecuente = palabra_mas_frecuente(frecuencia)\n",
    "    print (f'La palabra más frecuente es: \"{mas_frecuente}\"')\n",
    "\n",
    "    unicas = palabras_unicas(palabras)\n",
    "    print(f'Número de palabras únicas: {len(unicas)}')\n",
    "\n",
    "    repetidas = palabras_repetidas(frecuencia)\n",
    "    print(f'Palabras que se repiten más de 3 veces: {repetidas}')\n",
    "\n",
    "if __name__== \"__main__\":\n",
    "    main()\n",
    "\n",
    "\n",
    "   \n",
    "    \n",
    "    \n",
    "    \n",
    "\n"
   ]
  }
 ],
 "metadata": {
  "kernelspec": {
   "display_name": "Python 3",
   "language": "python",
   "name": "python3"
  },
  "language_info": {
   "codemirror_mode": {
    "name": "ipython",
    "version": 3
   },
   "file_extension": ".py",
   "mimetype": "text/x-python",
   "name": "python",
   "nbconvert_exporter": "python",
   "pygments_lexer": "ipython3",
   "version": "3.12.5"
  }
 },
 "nbformat": 4,
 "nbformat_minor": 2
}
