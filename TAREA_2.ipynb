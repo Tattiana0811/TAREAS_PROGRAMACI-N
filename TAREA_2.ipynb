{
 "cells": [
  {
   "cell_type": "markdown",
   "metadata": {},
   "source": [
    "## Inversa de una matriz \n",
    "La matriz A es invertible si existe una B con la propiedad \n",
    "\n",
    "$ AB=BA=In $\n",
    "\n",
    "donde In es la mtraiz identidad. La matriz B es única, la llamamos la inversa de A y la denotamos como $A^{-1}$. Una condición importante para saber que una matriz es invertible es si y solo si su determinante es distinto de cero. En otras palabras, una matriz tiene inversa si su determinante no es cero. \n",
    "\n",
    "\n",
    "Los pasos para hallar la inversa de una matriz son los siguientes:\n",
    "\n",
    "\n",
    "![Foto de paso a paso](paso_a_paso_kolman.png)\n",
    "\n",
    "De tal manera, primero debemos definir como se reducen matrices por el método de Gauss-Jordan."
   ]
  },
  {
   "cell_type": "code",
   "execution_count": 1,
   "metadata": {},
   "outputs": [],
   "source": [
    "def gauss_jordan_inversa(matrix, identidad, row=0, col=0):\n",
    "    n = len(matrix)\n",
    "    \n",
    "    # Condición de parada: Si ya hemos procesado todas las filas o columnas\n",
    "    if row >= n or col >= n:\n",
    "        return\n",
    "    \n",
    "    # Encontrar el pivote (valor no nulo en la columna)\n",
    "    pivot_row = row\n",
    "    while pivot_row < n and matrix[pivot_row][col] == 0:\n",
    "        pivot_row += 1\n",
    "    \n",
    "    # Si no hay pivote en la columna actual, pasamos a la siguiente columna\n",
    "    if pivot_row == n:\n",
    "        gauss_jordan_inversa(matrix, identidad, row, col + 1)\n",
    "        return\n",
    "    \n",
    "    # Intercambiamos filas para que la fila del pivote esté en la posición actual\n",
    "    matrix[row], matrix[pivot_row] = matrix[pivot_row], matrix[row]\n",
    "    identidad[row], identidad[pivot_row] = identidad[pivot_row], identidad[row]\n",
    "    \n",
    "    # Normalizamos la fila del pivote dividiendo por el valor del pivote\n",
    "    pivot = matrix[row][col]\n",
    "    for i in range(n):\n",
    "        matrix[row][i] /= pivot\n",
    "        identidad[row][i] /= pivot\n",
    "    \n",
    "    # Hacemos ceros en la columna actual para las demás filas\n",
    "    for r in range(n):\n",
    "        if r != row:\n",
    "            factor = matrix[r][col]\n",
    "            for i in range(n):\n",
    "                matrix[r][i] -= factor * matrix[row][i]\n",
    "                identidad[r][i] -= factor * identidad[row][i]\n",
    "    \n",
    "    # Llamada recursiva para la siguiente fila y columna\n",
    "    gauss_jordan_inversa(matrix, identidad, row + 1, col + 1)\n",
    "\n",
    "\n"
   ]
  },
  {
   "cell_type": "markdown",
   "metadata": {},
   "source": [
    "Ahora bien, luego de definir una manera de realizar reducción por Gauss-Jordan, se halla la inversa de una matriz de la sigueinte manera:"
   ]
  },
  {
   "cell_type": "code",
   "execution_count": 2,
   "metadata": {},
   "outputs": [],
   "source": [
    "def matriz_inversa(matrix):\n",
    "    n = len(matrix)\n",
    "    \n",
    "    # Crear la matriz identidad de tamaño n\n",
    "    identidad = [[1 if i == j else 0 for j in range(n)] for i in range(n)]\n",
    "    \n",
    "    # Hacer una copia de la matriz original para no modificarla directamente\n",
    "    matrix_copy = [row[:] for row in matrix]\n",
    "    \n",
    "    # Aplicar el método de Gauss-Jordan a la matriz aumentada [A | I]\n",
    "    gauss_jordan_inversa(matrix_copy, identidad)\n",
    "    \n",
    "    # Verificar si se obtuvo una matriz identidad en la parte izquierda\n",
    "    for i in range(n):\n",
    "        if any(matrix_copy[i][j] != (1 if i == j else 0) for j in range(n)):\n",
    "            raise ValueError(\"La matriz no es invertible\")\n",
    "    \n",
    "    # Devolver la parte derecha de la matriz aumentada, que ahora es la inversa\n",
    "    return identidad\n"
   ]
  },
  {
   "cell_type": "markdown",
   "metadata": {},
   "source": [
    "Un ejemplo simple para demostrar que estas dos recursividades sirven es el siguiente:\n"
   ]
  },
  {
   "cell_type": "code",
   "execution_count": 3,
   "metadata": {},
   "outputs": [
    {
     "name": "stdout",
     "output_type": "stream",
     "text": [
      "[4.0, 3.0, -1.0]\n",
      "[-2.0, -2.0, 1.0]\n",
      "[5.0, 4.0, -1.0]\n"
     ]
    }
   ],
   "source": [
    "# Ejemplo de uso\n",
    "A = [\n",
    "    [2, 1, -1],\n",
    "    [-3, -1, 2],\n",
    "    [-2, 1, 2]\n",
    "]\n",
    "\n",
    "inversa = matriz_inversa(A)\n",
    "\n",
    "# Imprimir la inversa de la matriz\n",
    "for fila in inversa:\n",
    "    print(fila)\n"
   ]
  },
  {
   "cell_type": "code",
   "execution_count": null,
   "metadata": {},
   "outputs": [],
   "source": []
  }
 ],
 "metadata": {
  "kernelspec": {
   "display_name": "Python 3",
   "language": "python",
   "name": "python3"
  },
  "language_info": {
   "codemirror_mode": {
    "name": "ipython",
    "version": 3
   },
   "file_extension": ".py",
   "mimetype": "text/x-python",
   "name": "python",
   "nbconvert_exporter": "python",
   "pygments_lexer": "ipython3",
   "version": "3.12.6"
  }
 },
 "nbformat": 4,
 "nbformat_minor": 2
}
