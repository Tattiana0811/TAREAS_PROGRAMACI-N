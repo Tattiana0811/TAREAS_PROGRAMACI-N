{
 "cells": [
  {
   "cell_type": "markdown",
   "metadata": {},
   "source": [
    "## Numpy\n",
    "Es una biblioteca de Python que proporciona un objeto de matriz multidimensional, varios objetos derivados (como matrices y matrices enmascaradas) y una variedad de rutinas para operaciones rápidas en matrices, incluidas operaciones matemáticas, lógicas, manipulación de formas, ordenamiento, selección, E/S, transformadas discretas de Fourier, álgebra lineal básica, operaciones estadísticas básicas, simulación aleatoria y mucho más."
   ]
  },
  {
   "cell_type": "markdown",
   "metadata": {},
   "source": [
    "### Graficas utilizando numpy"
   ]
  },
  {
   "cell_type": "code",
   "execution_count": null,
   "metadata": {},
   "outputs": [],
   "source": [
    "import numpy as np\n",
    "import matplotlib.pyplot as plt\n",
    "\n",
    "x=np.linspace(-10*np.pi,10*np.pi,1000)\n",
    "#np,linspace (donde inicia, donde termina, cantidad de veces generado )\n",
    "y=np.sinc(x)\n",
    "\n",
    "fig,ax=plt.subplots()\n",
    "\n",
    "ax.plot(x,y,linestyle='-',linewidth=2, label= 'ejemplo1', color='b')\n",
    "\n",
    "ax.set_title('Ejemplo 1')\n",
    "ax.set_xlabel('Eje X')\n",
    "ax.set_ylabel('Eje Y')\n",
    "\n",
    "plt.show()"
   ]
  },
  {
   "cell_type": "markdown",
   "metadata": {},
   "source": [
    "![Foto_ejemplo_1](Ejemplo_1.png) "
   ]
  },
  {
   "cell_type": "code",
   "execution_count": null,
   "metadata": {},
   "outputs": [],
   "source": [
    "import numpy as np\n",
    "import matplotlib.pyplot as plt\n",
    "\n",
    "fig= plt.figure(figsize=(10,6))\n",
    "ax= fig.add_subplot(111,projection='3d')\n",
    "\n",
    "\n",
    "x_list= np.arange(-5,5,0.01)\n",
    "#np.arange(iniciar, detener, espacio entre los valores)\n",
    "y_list= np.arange(-1,1,0.01)\n",
    "X,Y=np.meshgrid(x_list,y_list)\n",
    "#np.meshgrip es una tupla donde se organizan los valores en una matriz\n",
    "z=-3*((X/10)**2-(Y/20)**2)\n",
    "\n",
    "ax.plot_surface(X,Y,z, cmap='inferno',alpha=0.8)\n",
    "\n",
    "ax.set_title('Ejemplo 2')\n",
    "ax.set_xlabel('Eje x')\n",
    "\n",
    "ax.set_ylabel('Eje y')\n",
    "\n",
    "ax.set_zlabel('Eje z')\n",
    "\n",
    "\n",
    "plt.show()"
   ]
  },
  {
   "cell_type": "markdown",
   "metadata": {},
   "source": [
    "![Foto_figura_ejemplo_2](Ejemplo_2.png)"
   ]
  },
  {
   "cell_type": "code",
   "execution_count": null,
   "metadata": {},
   "outputs": [],
   "source": [
    "import numpy as np \n",
    "from numpy import linalg\n",
    "\n",
    "A = [\n",
    "    [2, 1, -1],\n",
    "    [-3, -1, 2],\n",
    "    [-2, 1, 2]\n",
    "]\n",
    "\n",
    "np.linalg.inv(A)"
   ]
  }
 ],
 "metadata": {
  "kernelspec": {
   "display_name": "Python 3",
   "language": "python",
   "name": "python3"
  },
  "language_info": {
   "codemirror_mode": {
    "name": "ipython",
    "version": 3
   },
   "file_extension": ".py",
   "mimetype": "text/x-python",
   "name": "python",
   "nbconvert_exporter": "python",
   "pygments_lexer": "ipython3",
   "version": "3.12.7"
  }
 },
 "nbformat": 4,
 "nbformat_minor": 2
}
